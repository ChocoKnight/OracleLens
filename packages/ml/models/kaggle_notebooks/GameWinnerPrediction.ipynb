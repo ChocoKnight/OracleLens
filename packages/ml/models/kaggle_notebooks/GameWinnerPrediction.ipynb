{
  "metadata": {
    "kernelspec": {
      "language": "python",
      "display_name": "Python 3",
      "name": "python3"
    },
    "language_info": {
      "name": "python",
      "version": "3.11.11",
      "mimetype": "text/x-python",
      "codemirror_mode": {
        "name": "ipython",
        "version": 3
      },
      "pygments_lexer": "ipython3",
      "nbconvert_exporter": "python",
      "file_extension": ".py"
    },
    "kaggle": {
      "accelerator": "nvidiaTeslaT4",
      "dataSources": [
        {
          "sourceId": 11600089,
          "sourceType": "datasetVersion",
          "datasetId": 7274752
        }
      ],
      "dockerImageVersionId": 31011,
      "isInternetEnabled": true,
      "language": "python",
      "sourceType": "notebook",
      "isGpuEnabled": true
    },
    "colab": {
      "name": "GameWinnerPrediction",
      "provenance": []
    }
  },
  "nbformat_minor": 0,
  "nbformat": 4,
  "cells": [
    {
      "source": [
        "# IMPORTANT: SOME KAGGLE DATA SOURCES ARE PRIVATE\n",
        "# RUN THIS CELL IN ORDER TO IMPORT YOUR KAGGLE DATA SOURCES.\n",
        "import kagglehub\n",
        "kagglehub.login()\n"
      ],
      "metadata": {
        "id": "QenzXxgSfp0H"
      },
      "cell_type": "code",
      "outputs": [],
      "execution_count": null
    },
    {
      "source": [
        "# IMPORTANT: RUN THIS CELL IN ORDER TO IMPORT YOUR KAGGLE DATA SOURCES,\n",
        "# THEN FEEL FREE TO DELETE THIS CELL.\n",
        "# NOTE: THIS NOTEBOOK ENVIRONMENT DIFFERS FROM KAGGLE'S PYTHON\n",
        "# ENVIRONMENT SO THERE MAY BE MISSING LIBRARIES USED BY YOUR\n",
        "# NOTEBOOK.\n",
        "\n",
        "kevinwtan_gameresults_path = kagglehub.dataset_download('kevinwtan/gameresults')\n",
        "\n",
        "print('Data source import complete.')\n"
      ],
      "metadata": {
        "id": "CHLqF8Ldfp0J"
      },
      "cell_type": "code",
      "outputs": [],
      "execution_count": null
    },
    {
      "cell_type": "code",
      "source": [
        "# This Python 3 environment comes with many helpful analytics libraries installed\n",
        "# It is defined by the kaggle/python Docker image: https://github.com/kaggle/docker-python\n",
        "# For example, here's several helpful packages to load\n",
        "\n",
        "import numpy as np # linear algebra\n",
        "import pandas as pd # data processing, CSV file I/O (e.g. pd.read_csv)\n",
        "\n",
        "# Input data files are available in the read-only \"../input/\" directory\n",
        "# For example, running this (by clicking run or pressing Shift+Enter) will list all files under the input directory\n",
        "\n",
        "import os\n",
        "for dirname, _, filenames in os.walk('/kaggle/input'):\n",
        "    for filename in filenames:\n",
        "        print(os.path.join(dirname, filename))\n",
        "\n",
        "# You can write up to 20GB to the current directory (/kaggle/working/) that gets preserved as output when you create a version using \"Save & Run All\"\n",
        "# You can also write temporary files to /kaggle/temp/, but they won't be saved outside of the current session"
      ],
      "metadata": {
        "_uuid": "8f2839f25d086af736a60e9eeb907d3b93b6e0e5",
        "_cell_guid": "b1076dfc-b9ad-4769-8c92-a6c4dae69d19",
        "trusted": true,
        "execution": {
          "iopub.status.busy": "2025-05-27T00:08:20.185439Z",
          "iopub.execute_input": "2025-05-27T00:08:20.186008Z",
          "iopub.status.idle": "2025-05-27T00:08:20.441743Z",
          "shell.execute_reply.started": "2025-05-27T00:08:20.185984Z",
          "shell.execute_reply": "2025-05-27T00:08:20.441008Z"
        },
        "id": "Xuf6_FEGfp0K",
        "outputId": "b3e4af77-b990-41ac-a20b-31a22ef9e8fd"
      },
      "outputs": [
        {
          "name": "stdout",
          "text": "/kaggle/input/gameresults/data.csv\n",
          "output_type": "stream"
        }
      ],
      "execution_count": null
    },
    {
      "cell_type": "code",
      "source": [
        "!pip install torchmetrics\n",
        "import torch\n",
        "import torch.nn as nn\n",
        "import torchvision\n",
        "import torchmetrics\n",
        "import numpy as np\n",
        "from tqdm import tqdm\n",
        "import sklearn"
      ],
      "metadata": {
        "trusted": true,
        "execution": {
          "iopub.status.busy": "2025-05-27T00:08:22.665396Z",
          "iopub.execute_input": "2025-05-27T00:08:22.666199Z",
          "iopub.status.idle": "2025-05-27T00:09:44.496436Z",
          "shell.execute_reply.started": "2025-05-27T00:08:22.666175Z",
          "shell.execute_reply": "2025-05-27T00:09:44.495653Z"
        },
        "id": "RAYIrM4hfp0L",
        "outputId": "9e4b1092-24d0-4831-fff2-bb4013fed85e"
      },
      "outputs": [
        {
          "name": "stdout",
          "text": "Requirement already satisfied: torchmetrics in /usr/local/lib/python3.11/dist-packages (1.7.1)\nRequirement already satisfied: numpy>1.20.0 in /usr/local/lib/python3.11/dist-packages (from torchmetrics) (1.26.4)\nRequirement already satisfied: packaging>17.1 in /usr/local/lib/python3.11/dist-packages (from torchmetrics) (24.2)\nRequirement already satisfied: torch>=2.0.0 in /usr/local/lib/python3.11/dist-packages (from torchmetrics) (2.5.1+cu124)\nRequirement already satisfied: lightning-utilities>=0.8.0 in /usr/local/lib/python3.11/dist-packages (from torchmetrics) (0.14.3)\nRequirement already satisfied: setuptools in /usr/local/lib/python3.11/dist-packages (from lightning-utilities>=0.8.0->torchmetrics) (75.1.0)\nRequirement already satisfied: typing_extensions in /usr/local/lib/python3.11/dist-packages (from lightning-utilities>=0.8.0->torchmetrics) (4.13.1)\nRequirement already satisfied: mkl_fft in /usr/local/lib/python3.11/dist-packages (from numpy>1.20.0->torchmetrics) (1.3.8)\nRequirement already satisfied: mkl_random in /usr/local/lib/python3.11/dist-packages (from numpy>1.20.0->torchmetrics) (1.2.4)\nRequirement already satisfied: mkl_umath in /usr/local/lib/python3.11/dist-packages (from numpy>1.20.0->torchmetrics) (0.1.1)\nRequirement already satisfied: mkl in /usr/local/lib/python3.11/dist-packages (from numpy>1.20.0->torchmetrics) (2025.1.0)\nRequirement already satisfied: tbb4py in /usr/local/lib/python3.11/dist-packages (from numpy>1.20.0->torchmetrics) (2022.1.0)\nRequirement already satisfied: mkl-service in /usr/local/lib/python3.11/dist-packages (from numpy>1.20.0->torchmetrics) (2.4.1)\nRequirement already satisfied: filelock in /usr/local/lib/python3.11/dist-packages (from torch>=2.0.0->torchmetrics) (3.18.0)\nRequirement already satisfied: networkx in /usr/local/lib/python3.11/dist-packages (from torch>=2.0.0->torchmetrics) (3.4.2)\nRequirement already satisfied: jinja2 in /usr/local/lib/python3.11/dist-packages (from torch>=2.0.0->torchmetrics) (3.1.6)\nRequirement already satisfied: fsspec in /usr/local/lib/python3.11/dist-packages (from torch>=2.0.0->torchmetrics) (2025.3.2)\nRequirement already satisfied: nvidia-cuda-nvrtc-cu12==12.4.127 in /usr/local/lib/python3.11/dist-packages (from torch>=2.0.0->torchmetrics) (12.4.127)\nRequirement already satisfied: nvidia-cuda-runtime-cu12==12.4.127 in /usr/local/lib/python3.11/dist-packages (from torch>=2.0.0->torchmetrics) (12.4.127)\nRequirement already satisfied: nvidia-cuda-cupti-cu12==12.4.127 in /usr/local/lib/python3.11/dist-packages (from torch>=2.0.0->torchmetrics) (12.4.127)\nCollecting nvidia-cudnn-cu12==9.1.0.70 (from torch>=2.0.0->torchmetrics)\n  Downloading nvidia_cudnn_cu12-9.1.0.70-py3-none-manylinux2014_x86_64.whl.metadata (1.6 kB)\nCollecting nvidia-cublas-cu12==12.4.5.8 (from torch>=2.0.0->torchmetrics)\n  Downloading nvidia_cublas_cu12-12.4.5.8-py3-none-manylinux2014_x86_64.whl.metadata (1.5 kB)\nCollecting nvidia-cufft-cu12==11.2.1.3 (from torch>=2.0.0->torchmetrics)\n  Downloading nvidia_cufft_cu12-11.2.1.3-py3-none-manylinux2014_x86_64.whl.metadata (1.5 kB)\nCollecting nvidia-curand-cu12==10.3.5.147 (from torch>=2.0.0->torchmetrics)\n  Downloading nvidia_curand_cu12-10.3.5.147-py3-none-manylinux2014_x86_64.whl.metadata (1.5 kB)\nCollecting nvidia-cusolver-cu12==11.6.1.9 (from torch>=2.0.0->torchmetrics)\n  Downloading nvidia_cusolver_cu12-11.6.1.9-py3-none-manylinux2014_x86_64.whl.metadata (1.6 kB)\nCollecting nvidia-cusparse-cu12==12.3.1.170 (from torch>=2.0.0->torchmetrics)\n  Downloading nvidia_cusparse_cu12-12.3.1.170-py3-none-manylinux2014_x86_64.whl.metadata (1.6 kB)\nRequirement already satisfied: nvidia-nccl-cu12==2.21.5 in /usr/local/lib/python3.11/dist-packages (from torch>=2.0.0->torchmetrics) (2.21.5)\nRequirement already satisfied: nvidia-nvtx-cu12==12.4.127 in /usr/local/lib/python3.11/dist-packages (from torch>=2.0.0->torchmetrics) (12.4.127)\nCollecting nvidia-nvjitlink-cu12==12.4.127 (from torch>=2.0.0->torchmetrics)\n  Downloading nvidia_nvjitlink_cu12-12.4.127-py3-none-manylinux2014_x86_64.whl.metadata (1.5 kB)\nRequirement already satisfied: triton==3.1.0 in /usr/local/lib/python3.11/dist-packages (from torch>=2.0.0->torchmetrics) (3.1.0)\nRequirement already satisfied: sympy==1.13.1 in /usr/local/lib/python3.11/dist-packages (from torch>=2.0.0->torchmetrics) (1.13.1)\nRequirement already satisfied: mpmath<1.4,>=1.1.0 in /usr/local/lib/python3.11/dist-packages (from sympy==1.13.1->torch>=2.0.0->torchmetrics) (1.3.0)\nRequirement already satisfied: MarkupSafe>=2.0 in /usr/local/lib/python3.11/dist-packages (from jinja2->torch>=2.0.0->torchmetrics) (3.0.2)\nRequirement already satisfied: intel-openmp<2026,>=2024 in /usr/local/lib/python3.11/dist-packages (from mkl->numpy>1.20.0->torchmetrics) (2024.2.0)\nRequirement already satisfied: tbb==2022.* in /usr/local/lib/python3.11/dist-packages (from mkl->numpy>1.20.0->torchmetrics) (2022.1.0)\nRequirement already satisfied: tcmlib==1.* in /usr/local/lib/python3.11/dist-packages (from tbb==2022.*->mkl->numpy>1.20.0->torchmetrics) (1.2.0)\nRequirement already satisfied: intel-cmplr-lib-rt in /usr/local/lib/python3.11/dist-packages (from mkl_umath->numpy>1.20.0->torchmetrics) (2024.2.0)\nRequirement already satisfied: intel-cmplr-lib-ur==2024.2.0 in /usr/local/lib/python3.11/dist-packages (from intel-openmp<2026,>=2024->mkl->numpy>1.20.0->torchmetrics) (2024.2.0)\nDownloading nvidia_cublas_cu12-12.4.5.8-py3-none-manylinux2014_x86_64.whl (363.4 MB)\n\u001b[2K   \u001b[90m━━━━━━━━━━━━━━━━━━━━━━━━━━━━━━━━━━━━━━━━\u001b[0m \u001b[32m363.4/363.4 MB\u001b[0m \u001b[31m4.7 MB/s\u001b[0m eta \u001b[36m0:00:00\u001b[0m0:00:01\u001b[0m00:01\u001b[0m\n\u001b[?25hDownloading nvidia_cudnn_cu12-9.1.0.70-py3-none-manylinux2014_x86_64.whl (664.8 MB)\n\u001b[2K   \u001b[90m━━━━━━━━━━━━━━━━━━━━━━━━━━━━━━━━━━━━━━━━\u001b[0m \u001b[32m664.8/664.8 MB\u001b[0m \u001b[31m2.5 MB/s\u001b[0m eta \u001b[36m0:00:00\u001b[0m0:00:01\u001b[0m00:01\u001b[0m\n\u001b[?25hDownloading nvidia_cufft_cu12-11.2.1.3-py3-none-manylinux2014_x86_64.whl (211.5 MB)\n\u001b[2K   \u001b[90m━━━━━━━━━━━━━━━━━━━━━━━━━━━━━━━━━━━━━━━━\u001b[0m \u001b[32m211.5/211.5 MB\u001b[0m \u001b[31m8.2 MB/s\u001b[0m eta \u001b[36m0:00:00\u001b[0m0:00:01\u001b[0m00:01\u001b[0m\n\u001b[?25hDownloading nvidia_curand_cu12-10.3.5.147-py3-none-manylinux2014_x86_64.whl (56.3 MB)\n\u001b[2K   \u001b[90m━━━━━━━━━━━━━━━━━━━━━━━━━━━━━━━━━━━━━━━━\u001b[0m \u001b[32m56.3/56.3 MB\u001b[0m \u001b[31m31.4 MB/s\u001b[0m eta \u001b[36m0:00:00\u001b[0m:00:01\u001b[0m00:01\u001b[0m\n\u001b[?25hDownloading nvidia_cusolver_cu12-11.6.1.9-py3-none-manylinux2014_x86_64.whl (127.9 MB)\n\u001b[2K   \u001b[90m━━━━━━━━━━━━━━━━━━━━━━━━━━━━━━━━━━━━━━━━\u001b[0m \u001b[32m127.9/127.9 MB\u001b[0m \u001b[31m13.5 MB/s\u001b[0m eta \u001b[36m0:00:00\u001b[0m:00:01\u001b[0m00:01\u001b[0m\n\u001b[?25hDownloading nvidia_cusparse_cu12-12.3.1.170-py3-none-manylinux2014_x86_64.whl (207.5 MB)\n\u001b[2K   \u001b[90m━━━━━━━━━━━━━━━━━━━━━━━━━━━━━━━━━━━━━━━━\u001b[0m \u001b[32m207.5/207.5 MB\u001b[0m \u001b[31m8.3 MB/s\u001b[0m eta \u001b[36m0:00:00\u001b[0m0:00:01\u001b[0m00:01\u001b[0m\n\u001b[?25hDownloading nvidia_nvjitlink_cu12-12.4.127-py3-none-manylinux2014_x86_64.whl (21.1 MB)\n\u001b[2K   \u001b[90m━━━━━━━━━━━━━━━━━━━━━━━━━━━━━━━━━━━━━━━━\u001b[0m \u001b[32m21.1/21.1 MB\u001b[0m \u001b[31m75.0 MB/s\u001b[0m eta \u001b[36m0:00:00\u001b[0m:00:01\u001b[0m00:01\u001b[0m\n\u001b[?25hInstalling collected packages: nvidia-nvjitlink-cu12, nvidia-curand-cu12, nvidia-cufft-cu12, nvidia-cublas-cu12, nvidia-cusparse-cu12, nvidia-cudnn-cu12, nvidia-cusolver-cu12\n  Attempting uninstall: nvidia-nvjitlink-cu12\n    Found existing installation: nvidia-nvjitlink-cu12 12.8.93\n    Uninstalling nvidia-nvjitlink-cu12-12.8.93:\n      Successfully uninstalled nvidia-nvjitlink-cu12-12.8.93\n  Attempting uninstall: nvidia-curand-cu12\n    Found existing installation: nvidia-curand-cu12 10.3.9.90\n    Uninstalling nvidia-curand-cu12-10.3.9.90:\n      Successfully uninstalled nvidia-curand-cu12-10.3.9.90\n  Attempting uninstall: nvidia-cufft-cu12\n    Found existing installation: nvidia-cufft-cu12 11.3.3.83\n    Uninstalling nvidia-cufft-cu12-11.3.3.83:\n      Successfully uninstalled nvidia-cufft-cu12-11.3.3.83\n  Attempting uninstall: nvidia-cublas-cu12\n    Found existing installation: nvidia-cublas-cu12 12.8.4.1\n    Uninstalling nvidia-cublas-cu12-12.8.4.1:\n      Successfully uninstalled nvidia-cublas-cu12-12.8.4.1\n  Attempting uninstall: nvidia-cusparse-cu12\n    Found existing installation: nvidia-cusparse-cu12 12.5.8.93\n    Uninstalling nvidia-cusparse-cu12-12.5.8.93:\n      Successfully uninstalled nvidia-cusparse-cu12-12.5.8.93\n  Attempting uninstall: nvidia-cudnn-cu12\n    Found existing installation: nvidia-cudnn-cu12 9.3.0.75\n    Uninstalling nvidia-cudnn-cu12-9.3.0.75:\n      Successfully uninstalled nvidia-cudnn-cu12-9.3.0.75\n  Attempting uninstall: nvidia-cusolver-cu12\n    Found existing installation: nvidia-cusolver-cu12 11.7.3.90\n    Uninstalling nvidia-cusolver-cu12-11.7.3.90:\n      Successfully uninstalled nvidia-cusolver-cu12-11.7.3.90\n\u001b[31mERROR: pip's dependency resolver does not currently take into account all the packages that are installed. This behaviour is the source of the following dependency conflicts.\npylibcugraph-cu12 24.12.0 requires pylibraft-cu12==24.12.*, but you have pylibraft-cu12 25.2.0 which is incompatible.\npylibcugraph-cu12 24.12.0 requires rmm-cu12==24.12.*, but you have rmm-cu12 25.2.0 which is incompatible.\u001b[0m\u001b[31m\n\u001b[0mSuccessfully installed nvidia-cublas-cu12-12.4.5.8 nvidia-cudnn-cu12-9.1.0.70 nvidia-cufft-cu12-11.2.1.3 nvidia-curand-cu12-10.3.5.147 nvidia-cusolver-cu12-11.6.1.9 nvidia-cusparse-cu12-12.3.1.170 nvidia-nvjitlink-cu12-12.4.127\n",
          "output_type": "stream"
        }
      ],
      "execution_count": null
    },
    {
      "cell_type": "code",
      "source": [
        "game_data = pd.read_csv('/kaggle/input/gameresults/data.csv')\n",
        "game_data.head()"
      ],
      "metadata": {
        "trusted": true,
        "execution": {
          "iopub.status.busy": "2025-05-27T00:09:44.497889Z",
          "iopub.execute_input": "2025-05-27T00:09:44.498223Z",
          "iopub.status.idle": "2025-05-27T00:09:45.91015Z",
          "shell.execute_reply.started": "2025-05-27T00:09:44.498204Z",
          "shell.execute_reply": "2025-05-27T00:09:45.909517Z"
        },
        "id": "xCt_I7lZfp0L",
        "outputId": "551b19c5-a383-483f-fb2e-6fc98debcf34"
      },
      "outputs": [
        {
          "execution_count": 4,
          "output_type": "execute_result",
          "data": {
            "text/plain": "   1  1.1  1924  1.2  1.3  10  0  0.1  0.2  1.4  ...  -1.9  1.16  1.17  1.18  \\\n0  1    1  2474    0    0  10  0    0    0    1  ...    -1     1     1     0   \n1  0    1  2629    0    1   4  0    0    0    0  ...    -1     0     0     1   \n2  1    1  1837    0    1  10  0    0    0    2  ...    -1     0     0     0   \n3  0    1  3043    0    1   3  0    0    0    0  ...    -1     0     0     1   \n4  1    1  2546    0    0  11  0    0    0    1  ...    -1     1     0     0   \n\n   4788  False.36  False.37  False.38  False.39  True.9  \n0  5203     False     False     False     False    True  \n1  4688     False     False     False     False    True  \n2  4739     False     False     False     False    True  \n3  4697     False     False     False     False    True  \n4  4995     False     False     False     False    True  \n\n[5 rows x 237 columns]",
            "text/html": "<div>\n<style scoped>\n    .dataframe tbody tr th:only-of-type {\n        vertical-align: middle;\n    }\n\n    .dataframe tbody tr th {\n        vertical-align: top;\n    }\n\n    .dataframe thead th {\n        text-align: right;\n    }\n</style>\n<table border=\"1\" class=\"dataframe\">\n  <thead>\n    <tr style=\"text-align: right;\">\n      <th></th>\n      <th>1</th>\n      <th>1.1</th>\n      <th>1924</th>\n      <th>1.2</th>\n      <th>1.3</th>\n      <th>10</th>\n      <th>0</th>\n      <th>0.1</th>\n      <th>0.2</th>\n      <th>1.4</th>\n      <th>...</th>\n      <th>-1.9</th>\n      <th>1.16</th>\n      <th>1.17</th>\n      <th>1.18</th>\n      <th>4788</th>\n      <th>False.36</th>\n      <th>False.37</th>\n      <th>False.38</th>\n      <th>False.39</th>\n      <th>True.9</th>\n    </tr>\n  </thead>\n  <tbody>\n    <tr>\n      <th>0</th>\n      <td>1</td>\n      <td>1</td>\n      <td>2474</td>\n      <td>0</td>\n      <td>0</td>\n      <td>10</td>\n      <td>0</td>\n      <td>0</td>\n      <td>0</td>\n      <td>1</td>\n      <td>...</td>\n      <td>-1</td>\n      <td>1</td>\n      <td>1</td>\n      <td>0</td>\n      <td>5203</td>\n      <td>False</td>\n      <td>False</td>\n      <td>False</td>\n      <td>False</td>\n      <td>True</td>\n    </tr>\n    <tr>\n      <th>1</th>\n      <td>0</td>\n      <td>1</td>\n      <td>2629</td>\n      <td>0</td>\n      <td>1</td>\n      <td>4</td>\n      <td>0</td>\n      <td>0</td>\n      <td>0</td>\n      <td>0</td>\n      <td>...</td>\n      <td>-1</td>\n      <td>0</td>\n      <td>0</td>\n      <td>1</td>\n      <td>4688</td>\n      <td>False</td>\n      <td>False</td>\n      <td>False</td>\n      <td>False</td>\n      <td>True</td>\n    </tr>\n    <tr>\n      <th>2</th>\n      <td>1</td>\n      <td>1</td>\n      <td>1837</td>\n      <td>0</td>\n      <td>1</td>\n      <td>10</td>\n      <td>0</td>\n      <td>0</td>\n      <td>0</td>\n      <td>2</td>\n      <td>...</td>\n      <td>-1</td>\n      <td>0</td>\n      <td>0</td>\n      <td>0</td>\n      <td>4739</td>\n      <td>False</td>\n      <td>False</td>\n      <td>False</td>\n      <td>False</td>\n      <td>True</td>\n    </tr>\n    <tr>\n      <th>3</th>\n      <td>0</td>\n      <td>1</td>\n      <td>3043</td>\n      <td>0</td>\n      <td>1</td>\n      <td>3</td>\n      <td>0</td>\n      <td>0</td>\n      <td>0</td>\n      <td>0</td>\n      <td>...</td>\n      <td>-1</td>\n      <td>0</td>\n      <td>0</td>\n      <td>1</td>\n      <td>4697</td>\n      <td>False</td>\n      <td>False</td>\n      <td>False</td>\n      <td>False</td>\n      <td>True</td>\n    </tr>\n    <tr>\n      <th>4</th>\n      <td>1</td>\n      <td>1</td>\n      <td>2546</td>\n      <td>0</td>\n      <td>0</td>\n      <td>11</td>\n      <td>0</td>\n      <td>0</td>\n      <td>0</td>\n      <td>1</td>\n      <td>...</td>\n      <td>-1</td>\n      <td>1</td>\n      <td>0</td>\n      <td>0</td>\n      <td>4995</td>\n      <td>False</td>\n      <td>False</td>\n      <td>False</td>\n      <td>False</td>\n      <td>True</td>\n    </tr>\n  </tbody>\n</table>\n<p>5 rows × 237 columns</p>\n</div>"
          },
          "metadata": {}
        }
      ],
      "execution_count": null
    },
    {
      "cell_type": "code",
      "source": [
        "game_data = game_data.map(lambda x: int(x) if isinstance(x, bool) else x)"
      ],
      "metadata": {
        "trusted": true,
        "execution": {
          "iopub.status.busy": "2025-05-27T00:09:49.18406Z",
          "iopub.execute_input": "2025-05-27T00:09:49.184318Z",
          "iopub.status.idle": "2025-05-27T00:09:53.421399Z",
          "shell.execute_reply.started": "2025-05-27T00:09:49.184297Z",
          "shell.execute_reply": "2025-05-27T00:09:53.420662Z"
        },
        "id": "iCnon4Ssfp0M"
      },
      "outputs": [],
      "execution_count": null
    },
    {
      "cell_type": "code",
      "source": [
        "X = game_data.iloc[:, 1:]\n",
        "y = game_data.iloc[:, [0]]\n",
        "\n",
        "from sklearn import preprocessing\n",
        "scaler = preprocessing.StandardScaler().fit(X)\n",
        "X = scaler.transform(X)\n",
        "\n",
        "# X_tensor.shape, y_tensor.shape\n",
        "\n",
        "X_tensor = torch.tensor(X, dtype=torch.float32)\n",
        "y_tensor = torch.tensor(y.values, dtype=torch.float32)\n",
        "\n",
        "X_tensor.shape, y_tensor.shape"
      ],
      "metadata": {
        "trusted": true,
        "execution": {
          "iopub.status.busy": "2025-05-27T00:12:46.850868Z",
          "iopub.execute_input": "2025-05-27T00:12:46.8511Z",
          "iopub.status.idle": "2025-05-27T00:12:47.13255Z",
          "shell.execute_reply.started": "2025-05-27T00:12:46.851084Z",
          "shell.execute_reply": "2025-05-27T00:12:47.13195Z"
        },
        "id": "n-DHuIxFfp0N",
        "outputId": "121a081e-e982-46c9-f1fc-11269642c031"
      },
      "outputs": [
        {
          "execution_count": 12,
          "output_type": "execute_result",
          "data": {
            "text/plain": "(torch.Size([54448, 236]), torch.Size([54448, 1]))"
          },
          "metadata": {}
        }
      ],
      "execution_count": null
    },
    {
      "cell_type": "code",
      "source": [
        "# from sklearn import preprocessing\n",
        "# scaler = preprocessing.StandardScaler().fit(X)\n",
        "# X = scaler.transform(X)\n",
        "\n",
        "# X_tensor.shape, y_tensor.shape"
      ],
      "metadata": {
        "trusted": true,
        "execution": {
          "iopub.status.busy": "2025-05-27T00:10:09.22174Z",
          "iopub.execute_input": "2025-05-27T00:10:09.222278Z",
          "iopub.status.idle": "2025-05-27T00:10:09.472013Z",
          "shell.execute_reply.started": "2025-05-27T00:10:09.222253Z",
          "shell.execute_reply": "2025-05-27T00:10:09.47126Z"
        },
        "id": "-SZv064-fp0O",
        "outputId": "f6a08daa-ddf4-4da2-bda2-438e26a0b554"
      },
      "outputs": [
        {
          "execution_count": 7,
          "output_type": "execute_result",
          "data": {
            "text/plain": "(torch.Size([54448, 236]), torch.Size([54448, 1]))"
          },
          "metadata": {}
        }
      ],
      "execution_count": null
    },
    {
      "cell_type": "code",
      "source": [
        "n_samples = X_tensor.size(0)\n",
        "\n",
        "train_size = int(0.8 * n_samples)\n",
        "test_size = n_samples - train_size\n",
        "\n",
        "from torch.utils.data import random_split, TensorDataset\n",
        "\n",
        "dataset = TensorDataset(X_tensor, y_tensor)\n",
        "\n",
        "train_dataset, test_dataset = random_split(dataset, [train_size, test_size])\n",
        "\n",
        "from torch.utils.data import DataLoader\n",
        "\n",
        "train_loader = DataLoader(train_dataset, batch_size=32, shuffle=True)\n",
        "test_loader = DataLoader(test_dataset, batch_size=32, shuffle=False)"
      ],
      "metadata": {
        "trusted": true,
        "execution": {
          "iopub.status.busy": "2025-05-27T00:12:54.811332Z",
          "iopub.execute_input": "2025-05-27T00:12:54.811606Z",
          "iopub.status.idle": "2025-05-27T00:12:54.831841Z",
          "shell.execute_reply.started": "2025-05-27T00:12:54.811585Z",
          "shell.execute_reply": "2025-05-27T00:12:54.831071Z"
        },
        "id": "ynB4zgBvfp0P"
      },
      "outputs": [],
      "execution_count": null
    },
    {
      "cell_type": "code",
      "source": [
        "def calc_accuracy_improved(model, dataloader):\n",
        "    model.eval()\n",
        "\n",
        "    correct = 0\n",
        "    total = 0\n",
        "\n",
        "    with torch.no_grad():\n",
        "        for X, y in dataloader:\n",
        "            X, y = X.to(device), y.to(device)\n",
        "\n",
        "            z = model(X)\n",
        "\n",
        "            predictions = torch.sigmoid(z).squeeze() > 0.5\n",
        "\n",
        "            predictions = predictions.long()\n",
        "\n",
        "            y = y.squeeze()\n",
        "\n",
        "            correct += (predictions == y).sum().item()\n",
        "            total += y.size(0)\n",
        "\n",
        "    accuracy = correct / total\n",
        "    # print(f\"Correct {correct}, Total {total}, Accuracy: {accuracy * 100:.2f}%\")\n",
        "    return accuracy\n"
      ],
      "metadata": {
        "trusted": true,
        "execution": {
          "iopub.status.busy": "2025-05-27T00:12:59.035887Z",
          "iopub.execute_input": "2025-05-27T00:12:59.036566Z",
          "iopub.status.idle": "2025-05-27T00:12:59.041089Z",
          "shell.execute_reply.started": "2025-05-27T00:12:59.036541Z",
          "shell.execute_reply": "2025-05-27T00:12:59.040334Z"
        },
        "id": "xdWXw5Ogfp0Q"
      },
      "outputs": [],
      "execution_count": null
    },
    {
      "cell_type": "code",
      "source": [
        "def evaluation(data, model):\n",
        "    accuracy = torchmetrics.Accuracy(task=\"binary\").to(device)\n",
        "    precision = torchmetrics.Precision(task=\"binary\", average=\"macro\").to(device)\n",
        "    recall = torchmetrics.Recall(task=\"binary\", average=\"macro\").to(device)\n",
        "    f1 = torchmetrics.F1Score(task=\"binary\", average=\"macro\").to(device)\n",
        "\n",
        "    accuracy.reset()\n",
        "    precision.reset()\n",
        "    recall.reset()\n",
        "    f1.reset()\n",
        "\n",
        "    for x_batch, y_batch in data:\n",
        "        x_batch, y_batch = x_batch.to(device), y_batch.to(device)\n",
        "\n",
        "        logits = model(x_batch)\n",
        "\n",
        "        probabilities = torch.sigmoid(logits).squeeze()  # Shape will be [batch_size, 1] -> [batch_size]\n",
        "\n",
        "        y_pred = (probabilities > 0.5).long()  # Convert boolean to long\n",
        "\n",
        "        y_batch = y_batch.squeeze()\n",
        "\n",
        "        accuracy(y_pred, y_batch)\n",
        "        precision(y_pred, y_batch)\n",
        "        recall(y_pred, y_batch)\n",
        "        f1(y_pred, y_batch)\n",
        "\n",
        "    macro_acc = accuracy.compute()\n",
        "    macro_prec = precision.compute()\n",
        "    macro_rec = recall.compute()\n",
        "    macro_f1 = f1.compute()\n",
        "\n",
        "    print(f\"Macro Accuracy: {macro_acc:.4f}\")\n",
        "    print(f\"Macro Precision: {macro_prec:.4f}\")\n",
        "    print(f\"Macro Recall: {macro_rec:.4f}\")\n",
        "    print(f\"Macro F1 Score: {macro_f1:.4f}\")"
      ],
      "metadata": {
        "trusted": true,
        "execution": {
          "iopub.status.busy": "2025-05-27T00:13:00.503141Z",
          "iopub.execute_input": "2025-05-27T00:13:00.503877Z",
          "iopub.status.idle": "2025-05-27T00:13:00.511322Z",
          "shell.execute_reply.started": "2025-05-27T00:13:00.503854Z",
          "shell.execute_reply": "2025-05-27T00:13:00.510605Z"
        },
        "id": "12B1O2QZfp0R"
      },
      "outputs": [],
      "execution_count": null
    },
    {
      "cell_type": "code",
      "source": [
        "device = torch.device(\"cuda\" if torch.cuda.is_available() else \"cpu\")\n",
        "device"
      ],
      "metadata": {
        "trusted": true,
        "execution": {
          "iopub.status.busy": "2025-05-27T00:13:02.608565Z",
          "iopub.execute_input": "2025-05-27T00:13:02.608824Z",
          "iopub.status.idle": "2025-05-27T00:13:02.709633Z",
          "shell.execute_reply.started": "2025-05-27T00:13:02.608802Z",
          "shell.execute_reply": "2025-05-27T00:13:02.708993Z"
        },
        "id": "K5IJyJuyfp0S",
        "outputId": "ed111c59-83ea-4845-8228-9a3f90df040b"
      },
      "outputs": [
        {
          "execution_count": 16,
          "output_type": "execute_result",
          "data": {
            "text/plain": "device(type='cuda')"
          },
          "metadata": {}
        }
      ],
      "execution_count": null
    },
    {
      "cell_type": "code",
      "source": [
        "nn_model = torch.nn.Sequential(\n",
        "    torch.nn.Linear(236, 128),\n",
        "    torch.nn.ReLU(),\n",
        "    torch.nn.Linear(128, 128),\n",
        "    torch.nn.ReLU(),\n",
        "    torch.nn.Linear(128, 64),\n",
        "    torch.nn.ReLU(),\n",
        "    torch.nn.Linear(64, 64),\n",
        "    torch.nn.ReLU(),\n",
        "    torch.nn.Linear(64, 1)\n",
        ").to(device)\n",
        "\n",
        "lr = 1e-5\n",
        "wd = 1e-3\n",
        "epochs = 20\n",
        "\n",
        "improved_nn_model = nn_model\n",
        "\n",
        "loss_fn = torch.nn.BCEWithLogitsLoss()\n",
        "opt = torch.optim.Adam(improved_nn_model.parameters(), lr=lr, weight_decay=wd)\n",
        "\n",
        "train_mses = []\n",
        "test_mses = []\n",
        "\n",
        "best_test_mse = np.inf\n",
        "\n",
        "for epoch in range(epochs):\n",
        "    improved_nn_model.train()\n",
        "    for X_vals, y_vals in train_loader:\n",
        "\n",
        "        X_vals, y_vals = X_vals.to(device), y_vals.to(device)\n",
        "        opt.zero_grad()\n",
        "\n",
        "        z = improved_nn_model(X_vals)\n",
        "\n",
        "        # print(X_vals[0])\n",
        "\n",
        "        loss = loss_fn(z, y_vals)\n",
        "\n",
        "        loss.backward()\n",
        "        opt.step()\n",
        "\n",
        "    # print(f'epoch {epoch}: loss is {loss.item()}')\n",
        "    improved_nn_model.eval()\n",
        "    # with torch.no_grad():\n",
        "    #     total_mse = 0\n",
        "    #     for X_vals, y_vals in test_loader:\n",
        "    #         X_vals, y_vals = X_vals.to(device), y_vals.to(device)\n",
        "    #         y_vals = y_vals.float().unsqueeze(1)\n",
        "    #         preds = improved_nn_model(X_vals)\n",
        "\n",
        "    #         test_mse = loss_fn(preds, y_vals).item()\n",
        "    #         total_mse += test_mse\n",
        "\n",
        "    #     avg_mse = total_mse / len(test_loader)\n",
        "\n",
        "    #     if avg_mse < best_test_mse:\n",
        "    #         best_test_mse = avg_mse\n",
        "    #         torch.save(improved_nn_model.state_dict(), 'best_model.ckpt')\n",
        "    #         print(f'Saved new best model at epoch {epoch} with MSE: {avg_mse:.4f}')\n",
        "\n",
        "    train_acc = calc_accuracy_improved(improved_nn_model, train_loader)\n",
        "    test_acc = calc_accuracy_improved(improved_nn_model, test_loader)\n",
        "    print(f'epoch {epoch} - train acc: {train_acc * 100:.2f}, test acc: {test_acc * 100:.2f}')\n",
        "\n",
        "# improved_nn_model.load_state_dict(torch.load('best.ckpt', weights_only=True))\n",
        "# improved_nn_model.load_state_dict(torch.load('best.ckpt', weights_only=True))\n",
        "# train_acc = calc_accuracy_improved(improved_nn_model, train_loader)\n",
        "# test_acc = calc_accuracy_improved(improved_nn_model, test_loader)\n",
        "# print(f'Best - train acc: {train_acc}, test acc: {test_acc}')\n",
        "\n",
        "evaluation(test_loader, improved_nn_model)\n",
        "\n",
        "torch.save(improved_nn_model.state_dict(), 'final_nn_model.pth')"
      ],
      "metadata": {
        "trusted": true,
        "execution": {
          "iopub.status.busy": "2025-05-27T00:20:51.123478Z",
          "iopub.execute_input": "2025-05-27T00:20:51.123777Z",
          "iopub.status.idle": "2025-05-27T00:22:24.61687Z",
          "shell.execute_reply.started": "2025-05-27T00:20:51.123757Z",
          "shell.execute_reply": "2025-05-27T00:22:24.616231Z"
        },
        "id": "WSGAgEklfp0S",
        "outputId": "00eee757-fc45-4d8b-c5af-abbdb7086b61"
      },
      "outputs": [
        {
          "name": "stdout",
          "text": "epoch 0 - train acc: 96.53, test acc: 96.54\nepoch 1 - train acc: 97.27, test acc: 97.24\nepoch 2 - train acc: 97.52, test acc: 97.47\nepoch 3 - train acc: 97.67, test acc: 97.59\nepoch 4 - train acc: 97.83, test acc: 97.85\nepoch 5 - train acc: 97.98, test acc: 97.93\nepoch 6 - train acc: 98.08, test acc: 98.09\nepoch 7 - train acc: 98.19, test acc: 98.12\nepoch 8 - train acc: 98.25, test acc: 98.23\nepoch 9 - train acc: 98.34, test acc: 98.34\nepoch 10 - train acc: 98.40, test acc: 98.37\nepoch 11 - train acc: 98.46, test acc: 98.41\nepoch 12 - train acc: 98.47, test acc: 98.44\nepoch 13 - train acc: 98.57, test acc: 98.54\nepoch 14 - train acc: 98.60, test acc: 98.60\nepoch 15 - train acc: 98.68, test acc: 98.62\nepoch 16 - train acc: 98.71, test acc: 98.63\nepoch 17 - train acc: 98.75, test acc: 98.62\nepoch 18 - train acc: 98.80, test acc: 98.62\nepoch 19 - train acc: 98.82, test acc: 98.67\nMacro Accuracy: 0.9867\nMacro Precision: 0.9872\nMacro Recall: 0.9880\nMacro F1 Score: 0.9876\n",
          "output_type": "stream"
        }
      ],
      "execution_count": null
    },
    {
      "cell_type": "code",
      "source": [
        "improved_nn_model.load_state_dict(torch.load('best_model.ckpt'))\n",
        "improved_nn_model.eval()"
      ],
      "metadata": {
        "trusted": true,
        "execution": {
          "iopub.status.busy": "2025-05-19T15:40:30.14199Z",
          "iopub.status.idle": "2025-05-19T15:40:30.142309Z",
          "shell.execute_reply.started": "2025-05-19T15:40:30.142108Z",
          "shell.execute_reply": "2025-05-19T15:40:30.142125Z"
        },
        "id": "zjvOgZ5hfp0T"
      },
      "outputs": [],
      "execution_count": null
    },
    {
      "cell_type": "code",
      "source": [
        "train_acc = calc_accuracy_improved(improved_nn_model, train_loader)\n",
        "test_acc = calc_accuracy_improved(improved_nn_model, test_loader)\n",
        "print(f'Best - train acc: {train_acc:.4f}, test acc: {test_acc:.4f}')\n",
        "\n",
        "evaluation(test_loader, improved_nn_model)"
      ],
      "metadata": {
        "trusted": true,
        "execution": {
          "iopub.status.busy": "2025-05-19T15:40:30.143544Z",
          "iopub.status.idle": "2025-05-19T15:40:30.143896Z",
          "shell.execute_reply.started": "2025-05-19T15:40:30.143716Z",
          "shell.execute_reply": "2025-05-19T15:40:30.14373Z"
        },
        "id": "dFcWkjtIfp0U"
      },
      "outputs": [],
      "execution_count": null
    }
  ]
}