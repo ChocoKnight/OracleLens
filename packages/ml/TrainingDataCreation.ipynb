{
 "cells": [
  {
   "cell_type": "code",
   "execution_count": 11,
   "id": "d9b018de",
   "metadata": {},
   "outputs": [],
   "source": [
    "import pandas as pd \n",
    "import requests"
   ]
  },
  {
   "cell_type": "code",
   "execution_count": 32,
   "id": "0f1f55ce",
   "metadata": {},
   "outputs": [],
   "source": [
    "url = \"http://localhost:3000/api/games\""
   ]
  },
  {
   "cell_type": "code",
   "execution_count": 38,
   "id": "f583251a",
   "metadata": {},
   "outputs": [],
   "source": [
    "blue_params = {'gameId': 21738, 'side': 'Blue'}\n",
    "red_params = {'gameId': 21738, 'side': 'Red'}\n",
    "blue_response = requests.get(url, params=blue_params)\n",
    "red_response = requests.get(url, params=red_params)"
   ]
  },
  {
   "cell_type": "code",
   "execution_count": 39,
   "id": "152167ae",
   "metadata": {},
   "outputs": [
    {
     "data": {
      "text/plain": [
       "[{'id': 21738,\n",
       "  'match_id': 13351,\n",
       "  'game_number': 1,\n",
       "  'blue_team': 1655,\n",
       "  'red_team': 1641,\n",
       "  'blue_win': 1,\n",
       "  'duration': 2162,\n",
       "  'game_id': 21738,\n",
       "  'side': 'Blue',\n",
       "  'first_blood': 0,\n",
       "  'first_tower': 0,\n",
       "  'towers': 11,\n",
       "  'tower_plates': 0,\n",
       "  'void_grubs': 0,\n",
       "  'rift_heralds': 0,\n",
       "  'baron_nashors': 2,\n",
       "  'infernals': 1,\n",
       "  'mountains': 1,\n",
       "  'clouds': 0,\n",
       "  'oceans': 0,\n",
       "  'hextechs': 0,\n",
       "  'chemtechs': 0,\n",
       "  'elders': 0,\n",
       "  'feats_of_strength': 0,\n",
       "  'ruinous_atakhan': 0,\n",
       "  'voracious_atakhan': 0}]"
      ]
     },
     "execution_count": 39,
     "metadata": {},
     "output_type": "execute_result"
    }
   ],
   "source": [
    "blue_response.json()"
   ]
  },
  {
   "cell_type": "code",
   "execution_count": 44,
   "id": "c43c8d94",
   "metadata": {},
   "outputs": [
    {
     "data": {
      "text/html": [
       "<div>\n",
       "<style scoped>\n",
       "    .dataframe tbody tr th:only-of-type {\n",
       "        vertical-align: middle;\n",
       "    }\n",
       "\n",
       "    .dataframe tbody tr th {\n",
       "        vertical-align: top;\n",
       "    }\n",
       "\n",
       "    .dataframe thead th {\n",
       "        text-align: right;\n",
       "    }\n",
       "</style>\n",
       "<table border=\"1\" class=\"dataframe\">\n",
       "  <thead>\n",
       "    <tr style=\"text-align: right;\">\n",
       "      <th></th>\n",
       "      <th>blue_win</th>\n",
       "      <th>game_number</th>\n",
       "      <th>duration</th>\n",
       "      <th>first_blood</th>\n",
       "      <th>first_tower</th>\n",
       "      <th>towers</th>\n",
       "      <th>tower_plates</th>\n",
       "      <th>void_grubs</th>\n",
       "      <th>rift_heralds</th>\n",
       "      <th>baron_nashors</th>\n",
       "      <th>infernals</th>\n",
       "      <th>mountains</th>\n",
       "      <th>clouds</th>\n",
       "      <th>oceans</th>\n",
       "      <th>hextechs</th>\n",
       "      <th>chemtechs</th>\n",
       "      <th>elders</th>\n",
       "      <th>feats_of_strength</th>\n",
       "      <th>ruinous_atakhan</th>\n",
       "      <th>voracious_atakhan</th>\n",
       "    </tr>\n",
       "  </thead>\n",
       "  <tbody>\n",
       "    <tr>\n",
       "      <th>0</th>\n",
       "      <td>1</td>\n",
       "      <td>1</td>\n",
       "      <td>2162</td>\n",
       "      <td>0</td>\n",
       "      <td>0</td>\n",
       "      <td>11</td>\n",
       "      <td>0</td>\n",
       "      <td>0</td>\n",
       "      <td>0</td>\n",
       "      <td>2</td>\n",
       "      <td>1</td>\n",
       "      <td>1</td>\n",
       "      <td>0</td>\n",
       "      <td>0</td>\n",
       "      <td>0</td>\n",
       "      <td>0</td>\n",
       "      <td>0</td>\n",
       "      <td>0</td>\n",
       "      <td>0</td>\n",
       "      <td>0</td>\n",
       "    </tr>\n",
       "  </tbody>\n",
       "</table>\n",
       "</div>"
      ],
      "text/plain": [
       "   blue_win  game_number  duration  first_blood  first_tower  towers  \\\n",
       "0         1            1      2162            0            0      11   \n",
       "\n",
       "   tower_plates  void_grubs  rift_heralds  baron_nashors  infernals  \\\n",
       "0             0           0             0              2          1   \n",
       "\n",
       "   mountains  clouds  oceans  hextechs  chemtechs  elders  feats_of_strength  \\\n",
       "0          1       0       0         0          0       0                  0   \n",
       "\n",
       "   ruinous_atakhan  voracious_atakhan  \n",
       "0                0                  0  "
      ]
     },
     "execution_count": 44,
     "metadata": {},
     "output_type": "execute_result"
    }
   ],
   "source": [
    "df = pd.DataFrame(blue_response.json())\n",
    "df[['blue_win', 'game_number', 'duration', 'first_blood', 'first_tower', 'towers', 'tower_plates', 'void_grubs', 'rift_heralds',\n",
    "    'baron_nashors', 'infernals', 'mountains', 'clouds', 'oceans', 'hextechs', 'chemtechs', 'elders', 'feats_of_strength',\n",
    "    'ruinous_atakhan', 'voracious_atakhan']]"
   ]
  },
  {
   "cell_type": "code",
   "execution_count": 45,
   "id": "2959f43a",
   "metadata": {},
   "outputs": [
    {
     "data": {
      "text/html": [
       "<div>\n",
       "<style scoped>\n",
       "    .dataframe tbody tr th:only-of-type {\n",
       "        vertical-align: middle;\n",
       "    }\n",
       "\n",
       "    .dataframe tbody tr th {\n",
       "        vertical-align: top;\n",
       "    }\n",
       "\n",
       "    .dataframe thead th {\n",
       "        text-align: right;\n",
       "    }\n",
       "</style>\n",
       "<table border=\"1\" class=\"dataframe\">\n",
       "  <thead>\n",
       "    <tr style=\"text-align: right;\">\n",
       "      <th></th>\n",
       "      <th>first_blood</th>\n",
       "      <th>first_tower</th>\n",
       "      <th>towers</th>\n",
       "      <th>tower_plates</th>\n",
       "      <th>void_grubs</th>\n",
       "      <th>rift_heralds</th>\n",
       "      <th>baron_nashors</th>\n",
       "      <th>infernals</th>\n",
       "      <th>mountains</th>\n",
       "      <th>clouds</th>\n",
       "      <th>oceans</th>\n",
       "      <th>hextechs</th>\n",
       "      <th>chemtechs</th>\n",
       "      <th>elders</th>\n",
       "      <th>feats_of_strength</th>\n",
       "      <th>ruinous_atakhan</th>\n",
       "      <th>voracious_atakhan</th>\n",
       "    </tr>\n",
       "  </thead>\n",
       "  <tbody>\n",
       "    <tr>\n",
       "      <th>0</th>\n",
       "      <td>1</td>\n",
       "      <td>1</td>\n",
       "      <td>3</td>\n",
       "      <td>0</td>\n",
       "      <td>0</td>\n",
       "      <td>2</td>\n",
       "      <td>0</td>\n",
       "      <td>0</td>\n",
       "      <td>2</td>\n",
       "      <td>0</td>\n",
       "      <td>1</td>\n",
       "      <td>0</td>\n",
       "      <td>0</td>\n",
       "      <td>0</td>\n",
       "      <td>0</td>\n",
       "      <td>0</td>\n",
       "      <td>0</td>\n",
       "    </tr>\n",
       "  </tbody>\n",
       "</table>\n",
       "</div>"
      ],
      "text/plain": [
       "   first_blood  first_tower  towers  tower_plates  void_grubs  rift_heralds  \\\n",
       "0            1            1       3             0           0             2   \n",
       "\n",
       "   baron_nashors  infernals  mountains  clouds  oceans  hextechs  chemtechs  \\\n",
       "0              0          0          2       0       1         0          0   \n",
       "\n",
       "   elders  feats_of_strength  ruinous_atakhan  voracious_atakhan  \n",
       "0       0                  0                0                  0  "
      ]
     },
     "execution_count": 45,
     "metadata": {},
     "output_type": "execute_result"
    }
   ],
   "source": [
    "df = pd.DataFrame(red_response.json())\n",
    "df[['first_blood', 'first_tower', 'towers', 'tower_plates', 'void_grubs', 'rift_heralds',\n",
    "    'baron_nashors', 'infernals', 'mountains', 'clouds', 'oceans', 'hextechs', 'chemtechs', 'elders', 'feats_of_strength',\n",
    "    'ruinous_atakhan', 'voracious_atakhan']]"
   ]
  },
  {
   "cell_type": "code",
   "execution_count": null,
   "id": "19bbd0db",
   "metadata": {},
   "outputs": [],
   "source": [
    "def game_vector(gameId):\n",
    "    blue_params = {'gameId': gameId, 'side': 'Blue'}\n",
    "    red_params = {'gameId': gameId, 'side': 'Red'}\n",
    "    blue_response = requests.get(url, params=blue_params)\n",
    "    red_response = requests.get(url, params=red_params)\n",
    "\n",
    "    blue_df = pd.DataFrame(blue_response.json())\n",
    "    red_df = pd.DataFrame(red_response.json())\n"
   ]
  }
 ],
 "metadata": {
  "kernelspec": {
   "display_name": ".venv",
   "language": "python",
   "name": "python3"
  },
  "language_info": {
   "codemirror_mode": {
    "name": "ipython",
    "version": 3
   },
   "file_extension": ".py",
   "mimetype": "text/x-python",
   "name": "python",
   "nbconvert_exporter": "python",
   "pygments_lexer": "ipython3",
   "version": "3.12.6"
  }
 },
 "nbformat": 4,
 "nbformat_minor": 5
}
